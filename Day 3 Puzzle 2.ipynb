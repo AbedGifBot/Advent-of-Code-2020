{
 "cells": [
  {
   "cell_type": "code",
   "execution_count": 3,
   "metadata": {},
   "outputs": [
    {
     "data": {
      "text/plain": [
       "156"
      ]
     },
     "execution_count": 3,
     "metadata": {},
     "output_type": "execute_result"
    }
   ],
   "source": [
    "def convert_input(filepath):\n",
    "    with open(filepath) as f:\n",
    "        lines = f.read().splitlines()    \n",
    "    inputAsArray = []\n",
    "    for line in lines:\n",
    "        inputAsArray.append(line)\n",
    "    return inputAsArray\n",
    "        \n",
    "def count_trees(filepath, x, y):\n",
    "    inputAsArray = convert_input(filepath)\n",
    "    treeCount = 0\n",
    "    startX = 0\n",
    "    startY = 0\n",
    "    while startY < len(inputAsArray):\n",
    "        currentRow = inputAsArray[startY]\n",
    "        currentPosition = currentRow[startX]\n",
    "        if currentPosition == '#':\n",
    "            treeCount+=1\n",
    "        startX+=x\n",
    "        width = len(inputAsArray[0])\n",
    "        if startX >= width:\n",
    "            startX-=width\n",
    "        startY+=y\n",
    "    return treeCount\n",
    "\n",
    "count_trees('Day3Input.txt', 3, 1)"
   ]
  },
  {
   "cell_type": "markdown",
   "metadata": {},
   "source": [
    "returns 156, which is the correct answer :)"
   ]
  },
  {
   "cell_type": "code",
   "execution_count": null,
   "metadata": {},
   "outputs": [],
   "source": []
  }
 ],
 "metadata": {
  "kernelspec": {
   "display_name": "Python 3",
   "language": "python",
   "name": "python3"
  },
  "language_info": {
   "codemirror_mode": {
    "name": "ipython",
    "version": 3
   },
   "file_extension": ".py",
   "mimetype": "text/x-python",
   "name": "python",
   "nbconvert_exporter": "python",
   "pygments_lexer": "ipython3",
   "version": "3.8.5"
  }
 },
 "nbformat": 4,
 "nbformat_minor": 4
}
