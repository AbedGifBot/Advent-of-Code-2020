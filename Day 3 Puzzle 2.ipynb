{
 "cells": [
  {
   "cell_type": "code",
   "execution_count": 4,
   "metadata": {},
   "outputs": [],
   "source": [
    "def convert_input(filepath):\n",
    "    with open(filepath) as f:\n",
    "        lines = f.read().splitlines()    \n",
    "    inputAsArray = []\n",
    "    for line in lines:\n",
    "        inputAsArray.append(line)\n",
    "    return inputAsArray\n",
    "        \n",
    "def count_trees(filepath, x, y):\n",
    "    inputAsArray = convert_input(filepath)\n",
    "    treeCount = 0\n",
    "    startX = 0\n",
    "    startY = 0\n",
    "    while startY < len(inputAsArray):\n",
    "        currentRow = inputAsArray[startY]\n",
    "        currentPosition = currentRow[startX]\n",
    "        if currentPosition == '#':\n",
    "            treeCount+=1\n",
    "        startX+=x\n",
    "        width = len(inputAsArray[0])\n",
    "        if startX >= width:\n",
    "            startX-=width\n",
    "        startY+=y\n",
    "    return treeCount"
   ]
  },
  {
   "cell_type": "code",
   "execution_count": 6,
   "metadata": {},
   "outputs": [],
   "source": [
    "filepath = 'Day3Input.txt'\n",
    "total0 = count_trees(filepath, 1, 1)\n",
    "total1 = count_trees(filepath, 3, 1)\n",
    "total2 = count_trees(filepath, 5, 1)\n",
    "total3 = count_trees(filepath, 7, 1)\n",
    "total4 = count_trees(filepath, 1, 2)"
   ]
  },
  {
   "cell_type": "code",
   "execution_count": 7,
   "metadata": {},
   "outputs": [
    {
     "data": {
      "text/plain": [
       "3521829480"
      ]
     },
     "execution_count": 7,
     "metadata": {},
     "output_type": "execute_result"
    }
   ],
   "source": [
    "total0*total1*total2*total3*total4"
   ]
  },
  {
   "cell_type": "markdown",
   "metadata": {},
   "source": [
    "total is 3521829480 :)"
   ]
  }
 ],
 "metadata": {
  "kernelspec": {
   "display_name": "Python 3",
   "language": "python",
   "name": "python3"
  },
  "language_info": {
   "codemirror_mode": {
    "name": "ipython",
    "version": 3
   },
   "file_extension": ".py",
   "mimetype": "text/x-python",
   "name": "python",
   "nbconvert_exporter": "python",
   "pygments_lexer": "ipython3",
   "version": "3.8.5"
  }
 },
 "nbformat": 4,
 "nbformat_minor": 4
}
