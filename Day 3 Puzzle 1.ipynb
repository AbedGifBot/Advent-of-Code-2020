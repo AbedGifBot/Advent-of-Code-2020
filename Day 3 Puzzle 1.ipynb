{
 "cells": [
  {
   "cell_type": "code",
   "execution_count": 1,
   "metadata": {},
   "outputs": [],
   "source": [
    "filepath = 'Day3Input.txt'\n",
    "x = 3\n",
    "y = 1"
   ]
  },
  {
   "cell_type": "code",
   "execution_count": 2,
   "metadata": {},
   "outputs": [],
   "source": [
    "with open(filepath) as f:\n",
    "    lines = f.read().splitlines()\n",
    "    \n",
    "inputAsArray = []\n",
    "\n",
    "for line in lines:\n",
    "    inputAsArray.append(line)"
   ]
  },
  {
   "cell_type": "code",
   "execution_count": 3,
   "metadata": {},
   "outputs": [],
   "source": [
    "treeCount = 0\n",
    "startX = 0\n",
    "startY = 0\n",
    "while startY < len(inputAsArray):\n",
    "    currentRow = inputAsArray[startY]\n",
    "    currentPosition = currentRow[startX]\n",
    "    if currentPosition == '#':\n",
    "        treeCount+=1\n",
    "    startX+=x\n",
    "    width = len(inputAsArray[0])\n",
    "    if startX >= width:\n",
    "        startX-=width\n",
    "    startY+=y"
   ]
  },
  {
   "cell_type": "code",
   "execution_count": 4,
   "metadata": {},
   "outputs": [
    {
     "data": {
      "text/plain": [
       "156"
      ]
     },
     "execution_count": 4,
     "metadata": {},
     "output_type": "execute_result"
    }
   ],
   "source": [
    "treeCount"
   ]
  },
  {
   "cell_type": "code",
   "execution_count": null,
   "metadata": {},
   "outputs": [],
   "source": []
  }
 ],
 "metadata": {
  "kernelspec": {
   "display_name": "Python 3",
   "language": "python",
   "name": "python3"
  },
  "language_info": {
   "codemirror_mode": {
    "name": "ipython",
    "version": 3
   },
   "file_extension": ".py",
   "mimetype": "text/x-python",
   "name": "python",
   "nbconvert_exporter": "python",
   "pygments_lexer": "ipython3",
   "version": "3.8.5"
  }
 },
 "nbformat": 4,
 "nbformat_minor": 4
}
